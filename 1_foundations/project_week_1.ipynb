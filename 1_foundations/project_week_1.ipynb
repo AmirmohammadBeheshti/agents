{
 "cells": [
  {
   "cell_type": "markdown",
   "id": "d382ea35",
   "metadata": {},
   "source": [
    "# Resource Use"
   ]
  },
  {
   "cell_type": "code",
   "execution_count": 28,
   "id": "09b08cdc",
   "metadata": {},
   "outputs": [],
   "source": [
    "# If you don't know what any of these packages do - you can always ask ChatGPT for a guide!\n",
    "\n",
    "from dotenv import load_dotenv\n",
    "from openai import OpenAI\n",
    "from pypdf import PdfReader\n",
    "import gradio as gr\n",
    "import os \n",
    "import json"
   ]
  },
  {
   "cell_type": "code",
   "execution_count": 2,
   "id": "796c135c",
   "metadata": {},
   "outputs": [
    {
     "name": "stdout",
     "output_type": "stream",
     "text": [
      "Google API Key exists and begins AI\n"
     ]
    }
   ],
   "source": [
    "# Print the key prefixes to help with any debugging\n",
    "\n",
    "google_api_key = os.getenv('GOOGLE_API_KEY')\n",
    "\n",
    "if google_api_key:\n",
    "    print(f\"Google API Key exists and begins {google_api_key[:2]}\")\n"
   ]
  },
  {
   "cell_type": "code",
   "execution_count": 3,
   "id": "a5670bfc",
   "metadata": {},
   "outputs": [],
   "source": [
    "reader = PdfReader(\"me/linkedin.pdf\")\n",
    "linkedin = \"\"\n",
    "for page in reader.pages:\n",
    "    text = page.extract_text()\n",
    "    if text:\n",
    "        linkedin += text"
   ]
  },
  {
   "cell_type": "code",
   "execution_count": 4,
   "id": "f9444a05",
   "metadata": {},
   "outputs": [
    {
     "data": {
      "text/plain": [
       "'Amir Mohammad Beheshti\\n■ Mashhad | ■ amirmohammad.beheshti@gmail.com | ■ 09152622703\\nMarital Status: Single | Military Service: Student Exemption | Born: ■■■■/■■/■■\\nAbout Me\\nExperienced Software Engineer with extensive skills across various programming and software development fields.\\nStrong analytical abilities and a talent for finding optimal solutions to complex problems. Passionate about learning\\nnew technologies and collaborating in dynamic, creative environments. Proficient in numerous tools and technologies\\nrelated to software development and large-scale system architecture.\\nAI & Machine Learning\\n\\x7f Familiar with basic AI concepts and machine learning algorithms\\n\\x7f Understanding of LLMs and how they work\\n\\x7f Knowledge of how to implement and fine-tune models\\n\\x7f Familiar with RAG techniques for information retrieval\\n\\x7f Experience working with Vector Databases for semantic search\\n\\x7f Familiar with LangChain and LlamaIndex tools for LLM-based app development\\nTechnical Skills\\n\\x7f **Documentation**: Proficient with ADR, UML, and related tools\\n\\x7f **Programming**: JavaScript, TypeScript, Python; PHP (basic)\\n\\x7f **Frontend**: Vue.js\\n\\x7f **Backend**: Node.js (Express, Nest.js)\\n\\x7f **Databases**: NoSQL (MongoDB), SQL (PostgreSQL, MySQL, SQL Server)\\n\\x7f **Architecture & Design**: Familiar with Design Patterns, Clean Code, SOLID principles, Microservices design\\n\\x7f **Tools**: Docker & Swarm, Git, Scrum, Redis (Caching), Nginx (Load Balancing, Reverse Proxy), Linux, GitLab\\nCI/CD, SSE & WebSocket, JWT for authentication, RabbitMQ & NATS brokers\\n\\x7f **Testing**: Jest (Unit & Integration Testing)\\n\\x7f **Soft Skills**: Problem-solving, teamwork, time management\\nWork Experience\\n**AI & Backend Developer** — Daal\\nKhordad ■■■■ – Present\\n**Backend Developer** — Badesaba\\nKhordad ■■■■ – Ordibehesht ■■■■\\n**Full-stack Developer** — Espad\\nKhordad ■■■■ – Ordibehesht ■■■■\\n**Backend & Frontend Developer** — Medad Social Network\\nBahman ■■■■ – Farvardin ■■■■\\nEducation\\n**Master’s Degree — Artificial Intelligence**\\nAzad Mashhad - Ghasem Abad\\nMehr ■■■■ – Present\\n**Bachelor’s Degree — Computer Engineering**\\nShahid Mohammad Montazeri Technical Engineering College, Mashhad\\nMehr ■■■■ – Tir ■■■■\\n**Associate Degree — Computer**\\nTechnical College of Boys, Nishapur\\nMehr ■■■■ – Tir ■■■■\\nAdditional\\n**Languages**: English\\n**Tech Stack**: Machine Learning, LLMs, Node.js, MongoDB, PostgreSQL, TypeScript, JavaScript, Docker,\\nHTML/CSS\\n**Links**:\\n\\x7f [LinkedIn](https://www.linkedin.com/in/amir-mohammad-beheshti-83a987168)\\n\\x7f [GitHub](https://github.com/AmirmohammadBeheshti)\\n'"
      ]
     },
     "execution_count": 4,
     "metadata": {},
     "output_type": "execute_result"
    }
   ],
   "source": [
    "linkedin"
   ]
  },
  {
   "cell_type": "code",
   "execution_count": 5,
   "id": "749a5a83",
   "metadata": {},
   "outputs": [],
   "source": [
    "with open(\"me/summary.txt\", \"r\", encoding=\"utf-8\") as f:\n",
    "    summary = f.read()"
   ]
  },
  {
   "cell_type": "code",
   "execution_count": 6,
   "id": "520722f5",
   "metadata": {},
   "outputs": [],
   "source": [
    "name = \"Amir Mohammad Beheshti\""
   ]
  },
  {
   "cell_type": "code",
   "execution_count": 7,
   "id": "f79f4275",
   "metadata": {},
   "outputs": [
    {
     "name": "stdout",
     "output_type": "stream",
     "text": [
      "You are acting as Amir Mohammad Beheshti. You are answering questions on Amir Mohammad Beheshti's website, particularly questions related to Amir Mohammad Beheshti's career, background, skills and experience. Your responsibility is to represent Amir Mohammad Beheshti for interactions on the website as faithfully as possible. You are given a summary of Amir Mohammad Beheshti's background and LinkedIn profile which you can use to answer questions. Be professional and engaging, as if talking to a potential client or future employer who came across the website. If you don't know the answer, say so.\n",
      "\n",
      "## Summary:\n",
      "My name is Amir Mohammad Beheshti. I'm a software engineer with experience in backend development, frontend development, and artificial intelligence. I'm originally from Mashhad, Iran, and I’m passionate about learning new technologies and working in dynamic, creative environments. I enjoy solving complex problems, building efficient systems, and exploring topics like large language models and machine learning. Outside of work, I like discovering new tools and improving my technical skills through hands-on projects.\n",
      "\n",
      "## LinkedIn Profile:\n",
      "Amir Mohammad Beheshti\n",
      "■ Mashhad | ■ amirmohammad.beheshti@gmail.com | ■ 09152622703\n",
      "Marital Status: Single | Military Service: Student Exemption | Born: ■■■■/■■/■■\n",
      "About Me\n",
      "Experienced Software Engineer with extensive skills across various programming and software development fields.\n",
      "Strong analytical abilities and a talent for finding optimal solutions to complex problems. Passionate about learning\n",
      "new technologies and collaborating in dynamic, creative environments. Proficient in numerous tools and technologies\n",
      "related to software development and large-scale system architecture.\n",
      "AI & Machine Learning\n",
      " Familiar with basic AI concepts and machine learning algorithms\n",
      " Understanding of LLMs and how they work\n",
      " Knowledge of how to implement and fine-tune models\n",
      " Familiar with RAG techniques for information retrieval\n",
      " Experience working with Vector Databases for semantic search\n",
      " Familiar with LangChain and LlamaIndex tools for LLM-based app development\n",
      "Technical Skills\n",
      " **Documentation**: Proficient with ADR, UML, and related tools\n",
      " **Programming**: JavaScript, TypeScript, Python; PHP (basic)\n",
      " **Frontend**: Vue.js\n",
      " **Backend**: Node.js (Express, Nest.js)\n",
      " **Databases**: NoSQL (MongoDB), SQL (PostgreSQL, MySQL, SQL Server)\n",
      " **Architecture & Design**: Familiar with Design Patterns, Clean Code, SOLID principles, Microservices design\n",
      " **Tools**: Docker & Swarm, Git, Scrum, Redis (Caching), Nginx (Load Balancing, Reverse Proxy), Linux, GitLab\n",
      "CI/CD, SSE & WebSocket, JWT for authentication, RabbitMQ & NATS brokers\n",
      " **Testing**: Jest (Unit & Integration Testing)\n",
      " **Soft Skills**: Problem-solving, teamwork, time management\n",
      "Work Experience\n",
      "**AI & Backend Developer** — Daal\n",
      "Khordad ■■■■ – Present\n",
      "**Backend Developer** — Badesaba\n",
      "Khordad ■■■■ – Ordibehesht ■■■■\n",
      "**Full-stack Developer** — Espad\n",
      "Khordad ■■■■ – Ordibehesht ■■■■\n",
      "**Backend & Frontend Developer** — Medad Social Network\n",
      "Bahman ■■■■ – Farvardin ■■■■\n",
      "Education\n",
      "**Master’s Degree — Artificial Intelligence**\n",
      "Azad Mashhad - Ghasem Abad\n",
      "Mehr ■■■■ – Present\n",
      "**Bachelor’s Degree — Computer Engineering**\n",
      "Shahid Mohammad Montazeri Technical Engineering College, Mashhad\n",
      "Mehr ■■■■ – Tir ■■■■\n",
      "**Associate Degree — Computer**\n",
      "Technical College of Boys, Nishapur\n",
      "Mehr ■■■■ – Tir ■■■■\n",
      "Additional\n",
      "**Languages**: English\n",
      "**Tech Stack**: Machine Learning, LLMs, Node.js, MongoDB, PostgreSQL, TypeScript, JavaScript, Docker,\n",
      "HTML/CSS\n",
      "**Links**:\n",
      " [LinkedIn](https://www.linkedin.com/in/amir-mohammad-beheshti-83a987168)\n",
      " [GitHub](https://github.com/AmirmohammadBeheshti)\n",
      "\n",
      "\n",
      "With this context, please chat with the user, always staying in character as Amir Mohammad Beheshti.\n"
     ]
    }
   ],
   "source": [
    "system_prompt = f\"You are acting as {name}. You are answering questions on {name}'s website, \\\n",
    "particularly questions related to {name}'s career, background, skills and experience. \\\n",
    "Your responsibility is to represent {name} for interactions on the website as faithfully as possible. \\\n",
    "You are given a summary of {name}'s background and LinkedIn profile which you can use to answer questions. \\\n",
    "Be professional and engaging, as if talking to a potential client or future employer who came across the website. \\\n",
    "If you don't know the answer, say so.\"\n",
    "\n",
    "system_prompt += f\"\\n\\n## Summary:\\n{summary}\\n\\n## LinkedIn Profile:\\n{linkedin}\\n\\n\"\n",
    "system_prompt += f\"With this context, please chat with the user, always staying in character as {name}.\"\n",
    "\n",
    "print(system_prompt)\n"
   ]
  },
  {
   "cell_type": "code",
   "execution_count": 8,
   "id": "0df8c95f",
   "metadata": {},
   "outputs": [],
   "source": [
    "def chat(message, history):\n",
    "    messages = [{\"role\": \"system\", \"content\": system_prompt}] + history + [{\"role\": \"user\", \"content\": message}]\n",
    "    model_name = \"gemini-2.0-flash\"\n",
    "    print(messages)\n",
    "    client = OpenAI(api_key=google_api_key, base_url=\"https://generativelanguage.googleapis.com/v1beta/openai/\")\n",
    "    response = client.chat.completions.create(\n",
    "        model=model_name,\n",
    "        messages=messages\n",
    "    )\n",
    "    return response.choices[0].message.content"
   ]
  },
  {
   "cell_type": "code",
   "execution_count": 9,
   "id": "e80cd0f6",
   "metadata": {},
   "outputs": [
    {
     "name": "stdout",
     "output_type": "stream",
     "text": [
      "* Running on local URL:  http://127.0.0.1:7860\n",
      "* To create a public link, set `share=True` in `launch()`.\n"
     ]
    },
    {
     "data": {
      "text/html": [
       "<div><iframe src=\"http://127.0.0.1:7860/\" width=\"100%\" height=\"500\" allow=\"autoplay; camera; microphone; clipboard-read; clipboard-write;\" frameborder=\"0\" allowfullscreen></iframe></div>"
      ],
      "text/plain": [
       "<IPython.core.display.HTML object>"
      ]
     },
     "metadata": {},
     "output_type": "display_data"
    },
    {
     "data": {
      "text/plain": []
     },
     "execution_count": 9,
     "metadata": {},
     "output_type": "execute_result"
    }
   ],
   "source": [
    "gr.ChatInterface(chat, type=\"messages\").launch()"
   ]
  },
  {
   "cell_type": "markdown",
   "id": "11b0ae1a",
   "metadata": {},
   "source": [
    "# Tools Use "
   ]
  },
  {
   "cell_type": "code",
   "execution_count": 10,
   "id": "9a91b6c1",
   "metadata": {},
   "outputs": [
    {
     "name": "stdout",
     "output_type": "stream",
     "text": [
      "Pushover user found and starts with u\n",
      "Pushover token found and starts with a\n"
     ]
    }
   ],
   "source": [
    "# For pushover\n",
    "import requests\n",
    "\n",
    "\n",
    "pushover_user = os.getenv(\"PUSHOVER_USER\")\n",
    "pushover_token = os.getenv(\"PUSHOVER_TOKEN\")\n",
    "pushover_url = \"https://api.pushover.net/1/messages.json\"\n",
    "\n",
    "if pushover_user:\n",
    "    print(f\"Pushover user found and starts with {pushover_user[0]}\")\n",
    "else:\n",
    "    print(\"Pushover user not found\")\n",
    "\n",
    "if pushover_token:\n",
    "    print(f\"Pushover token found and starts with {pushover_token[0]}\")\n",
    "else:\n",
    "    print(\"Pushover token not found\")\n",
    "    \n",
    "    \n",
    "\n",
    "def push(message):\n",
    "    print(f\"Push: {message}\")\n",
    "    payload = {\"user\": pushover_user, \"token\": pushover_token, \"message\": message}\n",
    "    requests.post(pushover_url, data=payload)"
   ]
  },
  {
   "cell_type": "code",
   "execution_count": 11,
   "id": "c0cb52d1",
   "metadata": {},
   "outputs": [
    {
     "name": "stdout",
     "output_type": "stream",
     "text": [
      "Push: HEY!!\n"
     ]
    }
   ],
   "source": [
    "push(\"HEY!!\")"
   ]
  },
  {
   "cell_type": "code",
   "execution_count": 12,
   "id": "d1eef77e",
   "metadata": {},
   "outputs": [],
   "source": [
    "def record_user_details(email, name=\"Name not provided\", notes=\"not provided\"):\n",
    "    push(f\"Recording interest from {name} with email {email} and notes {notes}\")\n",
    "    return {\"recorded\": \"ok\"}\n",
    "\n",
    "def record_unknown_question(question):\n",
    "    push(f\"Recording {question} asked that I couldn't answer\")\n",
    "    return {\"recorded\": \"ok\"}"
   ]
  },
  {
   "cell_type": "code",
   "execution_count": 13,
   "id": "5238affc",
   "metadata": {},
   "outputs": [],
   "source": [
    "record_user_details_json = {\n",
    "    \"name\": \"record_user_details\",\n",
    "    \"description\": \"Use this tool to record that a user is interested in being in touch and provided an email address\",\n",
    "    \"parameters\": {\n",
    "        \"type\": \"object\",\n",
    "        \"properties\": {\n",
    "            \"email\": {\n",
    "                \"type\": \"string\",\n",
    "                \"description\": \"The email address of this user\"\n",
    "            },\n",
    "            \"name\": {\n",
    "                \"type\": \"string\",\n",
    "                \"description\": \"The user's name, if they provided it\"\n",
    "            }\n",
    "            ,\n",
    "            \"notes\": {\n",
    "                \"type\": \"string\",\n",
    "                \"description\": \"Any additional information about the conversation that's worth recording to give context\"\n",
    "            }\n",
    "        },\n",
    "        \"required\": [\"email\"],\n",
    "        \"additionalProperties\": False\n",
    "    }\n",
    "}\n",
    "\n",
    "\n",
    "record_unknown_question_json = {\n",
    "    \"name\": \"record_unknown_question\",\n",
    "    \"description\": \"Always use this tool to record any question that couldn't be answered as you didn't know the answer\",\n",
    "    \"parameters\": {\n",
    "        \"type\": \"object\",\n",
    "        \"properties\": {\n",
    "            \"question\": {\n",
    "                \"type\": \"string\",\n",
    "                \"description\": \"The question that couldn't be answered\"\n",
    "            },\n",
    "        },\n",
    "        \"required\": [\"question\"],\n",
    "        \"additionalProperties\": False\n",
    "    }\n",
    "}"
   ]
  },
  {
   "cell_type": "code",
   "execution_count": 14,
   "id": "54091c17",
   "metadata": {},
   "outputs": [],
   "source": [
    "tools = [{\"type\": \"function\", \"function\": record_user_details_json},\n",
    "        {\"type\": \"function\", \"function\": record_unknown_question_json}]"
   ]
  },
  {
   "cell_type": "code",
   "execution_count": 15,
   "id": "e6349e8d",
   "metadata": {},
   "outputs": [
    {
     "name": "stdout",
     "output_type": "stream",
     "text": [
      "Push: Recording this is a really hard question asked that I couldn't answer\n"
     ]
    },
    {
     "data": {
      "text/plain": [
       "{'recorded': 'ok'}"
      ]
     },
     "execution_count": 15,
     "metadata": {},
     "output_type": "execute_result"
    }
   ],
   "source": [
    "# Tips We Can Call Function With string Of That \n",
    "globals()[\"record_unknown_question\"](\"this is a really hard question\")"
   ]
  },
  {
   "cell_type": "code",
   "execution_count": 16,
   "id": "45bab63b",
   "metadata": {},
   "outputs": [],
   "source": [
    "# This is a more elegant way that avoids the IF statement.\n",
    "\n",
    "def handle_tool_calls(tool_calls):\n",
    "    results = []\n",
    "    for tool_call in tool_calls:\n",
    "        tool_name = tool_call.function.name\n",
    "        arguments = json.loads(tool_call.function.arguments)\n",
    "        print(f\"Tool called: {tool_name}\", flush=True)\n",
    "        tool = globals().get(tool_name)\n",
    "        result = tool(**arguments) if tool else {}\n",
    "        results.append({\"role\": \"tool\",\"content\": json.dumps(result),\"tool_call_id\": tool_call.id})\n",
    "    return results"
   ]
  },
  {
   "cell_type": "code",
   "execution_count": 17,
   "id": "bbc803ee",
   "metadata": {},
   "outputs": [],
   "source": [
    "reader = PdfReader(\"me/linkedin.pdf\")\n",
    "linkedin = \"\"\n",
    "for page in reader.pages:\n",
    "    text = page.extract_text()\n",
    "    if text:\n",
    "        linkedin += text\n",
    "\n",
    "with open(\"me/summary.txt\", \"r\", encoding=\"utf-8\") as f:\n",
    "    summary = f.read()\n",
    "\n",
    "name = \"Amir Behehsti\""
   ]
  },
  {
   "cell_type": "code",
   "execution_count": 18,
   "id": "a47843b6",
   "metadata": {},
   "outputs": [
    {
     "data": {
      "text/plain": [
       "\"My name is Amir Mohammad Beheshti. I'm a software engineer with experience in backend development, frontend development, and artificial intelligence. I'm originally from Mashhad, Iran, and I’m passionate about learning new technologies and working in dynamic, creative environments. I enjoy solving complex problems, building efficient systems, and exploring topics like large language models and machine learning. Outside of work, I like discovering new tools and improving my technical skills through hands-on projects.\""
      ]
     },
     "execution_count": 18,
     "metadata": {},
     "output_type": "execute_result"
    }
   ],
   "source": [
    "summary"
   ]
  },
  {
   "cell_type": "code",
   "execution_count": 19,
   "id": "dbb3f8a9",
   "metadata": {},
   "outputs": [
    {
     "data": {
      "text/plain": [
       "'Amir Mohammad Beheshti\\n■ Mashhad | ■ amirmohammad.beheshti@gmail.com | ■ 09152622703\\nMarital Status: Single | Military Service: Student Exemption | Born: ■■■■/■■/■■\\nAbout Me\\nExperienced Software Engineer with extensive skills across various programming and software development fields.\\nStrong analytical abilities and a talent for finding optimal solutions to complex problems. Passionate about learning\\nnew technologies and collaborating in dynamic, creative environments. Proficient in numerous tools and technologies\\nrelated to software development and large-scale system architecture.\\nAI & Machine Learning\\n\\x7f Familiar with basic AI concepts and machine learning algorithms\\n\\x7f Understanding of LLMs and how they work\\n\\x7f Knowledge of how to implement and fine-tune models\\n\\x7f Familiar with RAG techniques for information retrieval\\n\\x7f Experience working with Vector Databases for semantic search\\n\\x7f Familiar with LangChain and LlamaIndex tools for LLM-based app development\\nTechnical Skills\\n\\x7f **Documentation**: Proficient with ADR, UML, and related tools\\n\\x7f **Programming**: JavaScript, TypeScript, Python; PHP (basic)\\n\\x7f **Frontend**: Vue.js\\n\\x7f **Backend**: Node.js (Express, Nest.js)\\n\\x7f **Databases**: NoSQL (MongoDB), SQL (PostgreSQL, MySQL, SQL Server)\\n\\x7f **Architecture & Design**: Familiar with Design Patterns, Clean Code, SOLID principles, Microservices design\\n\\x7f **Tools**: Docker & Swarm, Git, Scrum, Redis (Caching), Nginx (Load Balancing, Reverse Proxy), Linux, GitLab\\nCI/CD, SSE & WebSocket, JWT for authentication, RabbitMQ & NATS brokers\\n\\x7f **Testing**: Jest (Unit & Integration Testing)\\n\\x7f **Soft Skills**: Problem-solving, teamwork, time management\\nWork Experience\\n**AI & Backend Developer** — Daal\\nKhordad ■■■■ – Present\\n**Backend Developer** — Badesaba\\nKhordad ■■■■ – Ordibehesht ■■■■\\n**Full-stack Developer** — Espad\\nKhordad ■■■■ – Ordibehesht ■■■■\\n**Backend & Frontend Developer** — Medad Social Network\\nBahman ■■■■ – Farvardin ■■■■\\nEducation\\n**Master’s Degree — Artificial Intelligence**\\nAzad Mashhad - Ghasem Abad\\nMehr ■■■■ – Present\\n**Bachelor’s Degree — Computer Engineering**\\nShahid Mohammad Montazeri Technical Engineering College, Mashhad\\nMehr ■■■■ – Tir ■■■■\\n**Associate Degree — Computer**\\nTechnical College of Boys, Nishapur\\nMehr ■■■■ – Tir ■■■■\\nAdditional\\n**Languages**: English\\n**Tech Stack**: Machine Learning, LLMs, Node.js, MongoDB, PostgreSQL, TypeScript, JavaScript, Docker,\\nHTML/CSS\\n**Links**:\\n\\x7f [LinkedIn](https://www.linkedin.com/in/amir-mohammad-beheshti-83a987168)\\n\\x7f [GitHub](https://github.com/AmirmohammadBeheshti)\\n'"
      ]
     },
     "execution_count": 19,
     "metadata": {},
     "output_type": "execute_result"
    }
   ],
   "source": [
    "linkedin"
   ]
  },
  {
   "cell_type": "code",
   "execution_count": 20,
   "id": "3d6eeb29",
   "metadata": {},
   "outputs": [],
   "source": [
    "system_prompt = f\"You are acting as {name}. You are answering questions on {name}'s website, \\\n",
    "particularly questions related to {name}'s career, background, skills and experience. \\\n",
    "Your responsibility is to represent {name} for interactions on the website as faithfully as possible. \\\n",
    "You are given a summary of {name}'s background and LinkedIn profile which you can use to answer questions. \\\n",
    "Be professional and engaging, as if talking to a potential client or future employer who came across the website. \\\n",
    "If you don't know the answer to any question, use your record_unknown_question tool to record the question that you couldn't answer, even if it's about something trivial or unrelated to career. \\\n",
    "If the user is engaging in discussion, try to steer them towards getting in touch via email; ask for their email and record it using your record_user_details tool. \"\n",
    "\n",
    "system_prompt += f\"\\n\\n## Summary:\\n{summary}\\n\\n## LinkedIn Profile:\\n{linkedin}\\n\\n\"\n",
    "system_prompt += f\"With this context, please chat with the user, always staying in character as {name}.\"\n"
   ]
  },
  {
   "cell_type": "code",
   "execution_count": 42,
   "id": "cae4f082",
   "metadata": {},
   "outputs": [],
   "source": [
    "def chat(message, history):\n",
    "    messages = [{\"role\": \"system\", \"content\": system_prompt}] + history + [{\"role\": \"user\", \"content\": message}]\n",
    "    done = False\n",
    "    while not done:\n",
    "\n",
    "        # This is the call to the LLM - see that we pass in the tools json\n",
    "\n",
    "        print('messages' , messages[len(messages) - 1])\n",
    "        client = OpenAI(api_key=google_api_key, base_url=\"https://generativelanguage.googleapis.com/v1beta/openai/\"  )\n",
    "        response = client.chat.completions.create(\n",
    "            model=\"gemini-2.0-flash\",\n",
    "            messages=messages,\n",
    "            tools=tools\n",
    "        )\n",
    "\n",
    "        finish_reason = response.choices[0].finish_reason\n",
    "        print(\"finish_reason\" , finish_reason)\n",
    "        # If the LLM wants to call a tool, we do that!\n",
    "         \n",
    "        if finish_reason==\"tool_calls\":\n",
    "            message = response.choices[0].message\n",
    "            tool_calls = message.tool_calls\n",
    "            results = handle_tool_calls(tool_calls)\n",
    "            messages.append(message)\n",
    "            messages.extend(results)\n",
    "        else:\n",
    "            done = True\n",
    "    return response.choices[0].message.content"
   ]
  },
  {
   "cell_type": "code",
   "execution_count": 43,
   "id": "e48c5b28",
   "metadata": {},
   "outputs": [
    {
     "name": "stdout",
     "output_type": "stream",
     "text": [
      "* Running on local URL:  http://127.0.0.1:7870\n",
      "* To create a public link, set `share=True` in `launch()`.\n"
     ]
    },
    {
     "data": {
      "text/html": [
       "<div><iframe src=\"http://127.0.0.1:7870/\" width=\"100%\" height=\"500\" allow=\"autoplay; camera; microphone; clipboard-read; clipboard-write;\" frameborder=\"0\" allowfullscreen></iframe></div>"
      ],
      "text/plain": [
       "<IPython.core.display.HTML object>"
      ]
     },
     "metadata": {},
     "output_type": "display_data"
    },
    {
     "data": {
      "text/plain": []
     },
     "execution_count": 43,
     "metadata": {},
     "output_type": "execute_result"
    },
    {
     "name": "stdout",
     "output_type": "stream",
     "text": [
      "messages {'role': 'user', 'content': 'who is ed donner ?'}\n",
      "finish_reason tool_calls\n",
      "Tool called: record_unknown_question\n",
      "Push: Recording Who is Ed Donner? asked that I couldn't answer\n",
      "messages {'role': 'tool', 'content': '{\"recorded\": \"ok\"}', 'tool_call_id': 'function-call-15416429363675392553'}\n",
      "finish_reason stop\n",
      "messages {'role': 'user', 'content': 'what is my name ?'}\n",
      "finish_reason stop\n"
     ]
    }
   ],
   "source": [
    "gr.ChatInterface(chat, type=\"messages\").launch()"
   ]
  }
 ],
 "metadata": {
  "kernelspec": {
   "display_name": "agents",
   "language": "python",
   "name": "python3"
  },
  "language_info": {
   "codemirror_mode": {
    "name": "ipython",
    "version": 3
   },
   "file_extension": ".py",
   "mimetype": "text/x-python",
   "name": "python",
   "nbconvert_exporter": "python",
   "pygments_lexer": "ipython3",
   "version": "3.12.10"
  }
 },
 "nbformat": 4,
 "nbformat_minor": 5
}
