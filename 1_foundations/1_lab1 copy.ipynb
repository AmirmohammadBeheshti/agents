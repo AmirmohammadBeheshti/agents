{
 "cells": [
  {
   "cell_type": "code",
   "execution_count": 1,
   "metadata": {},
   "outputs": [],
   "source": [
    "# First let's do an import. If you get an Import Error, double check that your Kernel is correct..\n",
    "\n",
    "from dotenv import load_dotenv\n"
   ]
  },
  {
   "cell_type": "code",
   "execution_count": null,
   "metadata": {},
   "outputs": [],
   "source": [
    "# Next it's time to load the API keys into environment variables\n",
    "# If this returns false, see the next cell!\n",
    "\n",
    "load_dotenv(override=True)"
   ]
  },
  {
   "cell_type": "code",
   "execution_count": null,
   "metadata": {},
   "outputs": [
    {
     "name": "stdout",
     "output_type": "stream",
     "text": [
      "<think>\n",
      "Okay, the user said \"Hello, how are you?\" So I need to respond politely. Let me start with a greeting. Maybe \"Hello!\" to match their tone. Then, I should acknowledge their greeting. Since they're asking how I'm doing, I should keep it friendly. Maybe mention that I'm doing well and offer help. Let me check the guidelines to make sure I'm not overstepping. Keep it simple and helpful. Alright, that should work.\n",
      "</think>\n",
      "\n",
      "Hello! I'm doing well, thank you. How about you? If you have any questions or need help, feel free to ask! 😊\n"
     ]
    },
    {
     "ename": "NameError",
     "evalue": "name 'response' is not defined",
     "output_type": "error",
     "traceback": [
      "\u001b[31m---------------------------------------------------------------------------\u001b[39m",
      "\u001b[31mNameError\u001b[39m                                 Traceback (most recent call last)",
      "\u001b[36mCell\u001b[39m\u001b[36m \u001b[39m\u001b[32mIn[3]\u001b[39m\u001b[32m, line 26\u001b[39m\n\u001b[32m     23\u001b[39m result = ollama_chat(\u001b[33m\"\u001b[39m\u001b[33mqwen3:1.7b\u001b[39m\u001b[33m\"\u001b[39m, messages)\n\u001b[32m     24\u001b[39m \u001b[38;5;28mprint\u001b[39m(result[\u001b[33m'\u001b[39m\u001b[33mmessage\u001b[39m\u001b[33m'\u001b[39m][\u001b[33m'\u001b[39m\u001b[33mcontent\u001b[39m\u001b[33m'\u001b[39m])\n\u001b[32m---> \u001b[39m\u001b[32m26\u001b[39m \u001b[38;5;28mprint\u001b[39m(\u001b[43mresponse\u001b[49m.choices[\u001b[32m0\u001b[39m].message.content)\n",
      "\u001b[31mNameError\u001b[39m: name 'response' is not defined"
     ]
    }
   ],
   "source": [
    "import requests\n",
    "import json\n",
    "\n",
    "\n",
    "\n",
    "\n",
    "\n",
    "def ollama_chat(model, messages):\n",
    "    url = \"http://localhost:11434/api/chat\"\n",
    "    payload = {\n",
    "        \"model\": model,\n",
    "        \"messages\": messages,\n",
    "        \"stream\": False\n",
    "    }\n",
    "    response = requests.post(url, json=payload)\n",
    "    return response.json()\n",
    "\n",
    "# Example usage\n",
    "messages = [\n",
    "    {\"role\": \"user\", \"content\": \"Hello, how are you?\"}\n",
    "]\n",
    "\n",
    "result = ollama_chat(\"qwen3:1.7b\", messages)\n",
    "print(result['message']['content'])\n"
   ]
  },
  {
   "cell_type": "code",
   "execution_count": null,
   "metadata": {},
   "outputs": [
    {
     "data": {
      "text/markdown": [
       "**High-Impact Area for Agentic AI in Software Development: Development of AI Models**\n",
       "\n",
       "**Explanation:**  \n",
       "Agentic AI systems, characterized by their autonomy, decision-making capabilities, and ability to act independently, offer transformative potential in the development of AI models. This area is particularly impactful because it addresses the core challenges of training, optimizing, and deploying AI systems, which are critical for advancing AI capabilities.\n",
       "\n",
       "**Key Benefits of Agentic AI in Model Development:**  \n",
       "1. **Autonomous Training and Optimization:**  \n",
       "   - Agentic AI can autonomously manage the training process, selecting optimal hyperparameters, data subsets, and model architectures. This reduces human intervention and accelerates the development cycle.  \n",
       "   - Example: An AI system could dynamically adjust training strategies to improve model accuracy and efficiency, minimizing resource waste.\n",
       "\n",
       "2. **Predictive Modeling and Scenario Planning:**  \n",
       "   - Agentic AI can predict potential issues during training (e.g., data bias, overfitting) and plan for optimal outcomes. This enables the creation of robust models that generalize well across diverse datasets.  \n",
       "   - Example: A model could autonomously generate synthetic data to address data scarcity, ensuring the model performs reliably in real-world scenarios.\n",
       "\n",
       "3. **Integration with Development Cycles:**  \n",
       "   - Agentic AI can integrate with CI/CD pipelines, automating model deployment and monitoring. This ensures models are continuously refined and validated, reducing the risk of errors and improving performance.  \n",
       "   - Example: An AI system could autonomously deploy a model, monitor its performance, and trigger retraining if anomalies are detected.\n",
       "\n",
       "4. **Enhanced Efficiency and Scalability:**  \n",
       "   - By automating repetitive tasks (e.g., hyperparameter tuning, model evaluation), agentic AI reduces manual effort and accelerates development. This scalability is vital for large-scale AI projects.  \n",
       "   - Example: A team could leverage agentic AI to train multiple models simultaneously, leveraging parallel processing for faster development.\n",
       "\n",
       "**Why This Area is High-Impact:**  \n",
       "- **Performance Gains:** Agentic AI enables more efficient and accurate models, which directly impacts applications in fields like healthcare, finance, and autonomous systems.  \n",
       "- **Cost Reduction:** Automating training and optimization reduces resource consumption and development time, lowering costs.  \n",
       "- **Adaptability:** Agentic AI can adapt to evolving requirements, ensuring models remain relevant and effective in dynamic environments.\n",
       "\n",
       "**Conclusion:**  \n",
       "The development of AI models is a high-impact area where agentic AI can revolutionize the field by enabling autonomous, efficient, and scalable AI systems. This area bridges the gap between theoretical AI research and practical application, driving innovation in AI-driven solutions across industries."
      ],
      "text/plain": [
       "<IPython.core.display.Markdown object>"
      ]
     },
     "metadata": {},
     "output_type": "display_data"
    }
   ],
   "source": [
    "from IPython.display import Markdown, display\n",
    "\n",
    "# First create the messages:\n",
    "\n",
    "# Example usage\n",
    "messages = [\n",
    "    {\"role\": \"user\", \"content\": \"Suggest a high-impact area within software development or programming that would benefit from an Agentic AI solution.\"}\n",
    "]\n",
    "\n",
    "\n",
    "result = ollama_chat(\"qwen3:1.7b\", messages)\n",
    "\n",
    "content = result['message']['content']\n",
    "\n",
    "# Remove the <think> tags and their content\n",
    "if '<think>' in content and '</think>' in content:\n",
    "    start = content.find('<think>')\n",
    "    end = content.find('</think>') + len('</think>')\n",
    "    content = content[:start] + content[end:]\n",
    "\n",
    "# Also remove any extra whitespace\n",
    "content = content.strip()\n",
    "\n",
    "display(Markdown(content))\n"
   ]
  },
  {
   "cell_type": "markdown",
   "metadata": {},
   "source": []
  }
 ],
 "metadata": {
  "kernelspec": {
   "display_name": ".venv",
   "language": "python",
   "name": "python3"
  },
  "language_info": {
   "codemirror_mode": {
    "name": "ipython",
    "version": 3
   },
   "file_extension": ".py",
   "mimetype": "text/x-python",
   "name": "python",
   "nbconvert_exporter": "python",
   "pygments_lexer": "ipython3",
   "version": "3.12.10"
  }
 },
 "nbformat": 4,
 "nbformat_minor": 2
}
