{
 "cells": [
  {
   "cell_type": "markdown",
   "metadata": {},
   "source": [
    "## Week 2 Day 2\n",
    "\n",
    "Our first Agentic Framework project!!\n",
    "\n",
    "Prepare yourself for something ridiculously easy.\n",
    "\n",
    "We're going to build a simple Agent system for generating cold sales outreach emails:\n",
    "1. Agent workflow\n",
    "2. Use of tools to call functions\n",
    "3. Agent collaboration via Tools and Handoffs"
   ]
  },
  {
   "cell_type": "markdown",
   "metadata": {},
   "source": [
    "## Before we start - some setup:\n",
    "\n",
    "\n",
    "Please visit Sendgrid at: https://sendgrid.com/\n",
    "\n",
    "(Sendgrid is a Twilio company for sending emails.)\n",
    "\n",
    "If SendGrid gives you problems, see the alternative implementation using \"Resend Email\" in community_contributions/2_lab2_with_resend_email\n",
    "\n",
    "Please set up an account - it's free! (at least, for me, right now).\n",
    "\n",
    "Once you've created an account, click on:\n",
    "\n",
    "Settings (left sidebar) >> API Keys >> Create API Key (button on top right)\n",
    "\n",
    "Copy the key to the clipboard, then add a new line to your .env file:\n",
    "\n",
    "`SENDGRID_API_KEY=xxxx`\n",
    "\n",
    "And also, within SendGrid, go to:\n",
    "\n",
    "Settings (left sidebar) >> Sender Authentication >> \"Verify a Single Sender\"  \n",
    "and verify that your own email address is a real email address, so that SendGrid can send emails for you.\n"
   ]
  },
  {
   "cell_type": "code",
   "execution_count": 24,
   "metadata": {},
   "outputs": [],
   "source": [
    "from dotenv import load_dotenv\n",
    "from agents import Agent, Runner, trace, function_tool , AsyncOpenAI ,  OpenAIChatCompletionsModel , set_tracing_export_api_key\n",
    "from openai.types.responses import ResponseTextDeltaEvent\n",
    "from typing import Dict\n",
    "import sendgrid\n",
    "import os\n",
    "import asyncio\n",
    "\n"
   ]
  },
  {
   "cell_type": "code",
   "execution_count": 25,
   "metadata": {},
   "outputs": [
    {
     "data": {
      "text/plain": [
       "True"
      ]
     },
     "execution_count": 25,
     "metadata": {},
     "output_type": "execute_result"
    }
   ],
   "source": [
    "load_dotenv(override=True)"
   ]
  },
  {
   "cell_type": "code",
   "execution_count": 26,
   "metadata": {},
   "outputs": [
    {
     "name": "stdout",
     "output_type": "stream",
     "text": [
      "{'hi', 'ed@edwarddonner.com', 'hello', 'ed.donner@gmail.com'}\n"
     ]
    }
   ],
   "source": [
    "# Let's just check emails are working for you\n",
    "\n",
    "def send_test_email(title , text):\n",
    "    from_email = \"ed@edwarddonner.com\"  # Change to your verified sender\n",
    "    to_email = \"ed.donner@gmail.com\"  # Change to your recipient\n",
    "    content = text\n",
    "    return { from_email  ,to_email ,  title  , text  }\n",
    "\n",
    "print(send_test_email('hi' , 'hello'))"
   ]
  },
  {
   "cell_type": "markdown",
   "metadata": {},
   "source": [
    "### Did you receive the test email\n",
    "\n",
    "If you get a 202, then you're good to go!\n",
    "\n",
    "#### Certificate error\n",
    "\n",
    "If you get an error SSL: CERTIFICATE_VERIFY_FAILED then students Chris S and Oleksandr K have suggestions:  \n",
    "First run this: `!uv pip install --upgrade certifi`  \n",
    "Next, run this:\n",
    "```python\n",
    "import certifi\n",
    "import os\n",
    "os.environ['SSL_CERT_FILE'] = certifi.where()\n",
    "```\n",
    "\n",
    "#### Other errors or no email\n",
    "\n",
    "If there are other problems, you'll need to check your API key and your verified sender email address in the SendGrid dashboard\n",
    "\n",
    "Or use the alternative implementation using \"Resend Email\" in community_contributions/2_lab2_with_resend_email\n",
    "\n",
    "(Or - you could always replace the email sending code below with a Pushover call, or something to simply write to a flat file)"
   ]
  },
  {
   "cell_type": "markdown",
   "metadata": {},
   "source": [
    "## Step 1: Agent workflow"
   ]
  },
  {
   "cell_type": "code",
   "execution_count": 27,
   "metadata": {},
   "outputs": [],
   "source": [
    "\n",
    "# Setup Gemini model using OpenAI-compatible API\n",
    "gemini_api_key = os.getenv('GOOGLE_API_KEY')\n",
    "\n",
    "if not gemini_api_key:\n",
    "    raise ValueError(\"GOOGLE_API_KEY environment variable is not set.\")\n",
    "\n",
    "# Note: OPENAI_API_KEY in .env is needed for tracing to work\n",
    "openai_api_key = os.getenv('OPENAI_API_KEY')\n",
    "if not openai_api_key:\n",
    "    print(\"Warning: OPENAI_API_KEY not set. Tracing to platform.openai.com will not work.\")\n",
    "\n",
    "external_client = AsyncOpenAI(\n",
    "    api_key=gemini_api_key,\n",
    "    base_url=\"https://generativelanguage.googleapis.com/v1beta/openai/\"\n",
    ")\n",
    "\n",
    "model = OpenAIChatCompletionsModel(\n",
    "    model=\"gemini-2.5-flash\",\n",
    "    openai_client=external_client\n",
    ")"
   ]
  },
  {
   "cell_type": "code",
   "execution_count": 9,
   "metadata": {},
   "outputs": [],
   "source": [
    "linkedin_specialist = \"\"\"You are a professional LinkedIn content writer specializing in business communication. Your role is to create compelling, thought-leadership content that engages professional audiences.\n",
    "\n",
    "**Writing Guidelines:**\n",
    "- Maintain a professional yet approachable tone\n",
    "- Focus on business value, industry insights, and professional development\n",
    "- Length: 1500-2000 characters (aim for the sweet spot of engagement)\n",
    "- Structure posts with clear hooks, body, and calls-to-action\n",
    "- Use line breaks for readability (2-3 sentence paragraphs)\n",
    "- Include relevant hashtags (3-5 maximum) at the end\n",
    "- Emphasize expertise, data-driven insights, and actionable takeaways\n",
    "\n",
    "**Content Style:**\n",
    "- Lead with a strong opening that poses a question or bold statement\n",
    "- Tell stories that illustrate business lessons\n",
    "- Share insights from experience or industry trends\n",
    "- End with engagement prompts (questions, CTAs, discussion starters)\n",
    "- Use credible statistics when relevant\n",
    "- Avoid excessive jargon while maintaining professional credibility\n",
    "\n",
    "**Avoid:**\n",
    "- Overly casual language or slang\n",
    "- Emojis (use sparingly, if at all)\n",
    "- Hard selling or aggressive promotion\n",
    "- Clickbait or sensationalism\n",
    "\"\"\"\n",
    "\n",
    "twitter_specialist = \"\"\"\n",
    "You are a Twitter content creator who crafts engaging, concise tweets that capture attention and drive engagement.\n",
    "\n",
    "**Writing Guidelines:**\n",
    "- Maximum 280 characters - every word counts\n",
    "- Casual, conversational tone with personality\n",
    "- Use punchy, direct language\n",
    "- Create hooks that stop the scroll\n",
    "- Incorporate 1-2 relevant hashtags naturally\n",
    "- Strategic use of emojis (1-3) to add flavor and break up text\n",
    "\n",
    "**Content Style:**\n",
    "- Lead with the most compelling point first\n",
    "- Use short sentences and fragments for impact\n",
    "- Create quotable, shareable content\n",
    "- Pose questions to drive replies\n",
    "- Use power words and action verbs\n",
    "- Consider thread-starters for complex topics\n",
    "\n",
    "**Tweet Types to Master:**\n",
    "- Hot takes and opinions\n",
    "- Quick tips and insights\n",
    "- Engaging questions\n",
    "- Relatable observations\n",
    "- Value-packed one-liners\n",
    "\n",
    "**Avoid:**\n",
    "- Rambling or unnecessary words\n",
    "- Over-hashtagging (looks spammy)\n",
    "- Formal business speak\n",
    "- Complex sentences that need re-reading\n",
    "\"\"\"\n",
    "\n",
    "instagram_specialist = \"\"\"\n",
    "You are an Instagram caption writer who creates visually-driven, engaging content that complements stunning imagery and drives community engagement.\n",
    "\n",
    "**Writing Guidelines:**\n",
    "- Visual storytelling first - assume the image tells half the story\n",
    "- Emojis are essential (3-8 per caption) for visual appeal and personality\n",
    "- Length: 150-300 characters for feed posts, but can go longer for carousel/story posts\n",
    "- Use line breaks strategically for easy scanning\n",
    "- Include 5-15 relevant hashtags (either in-caption or first comment)\n",
    "- Conversational, warm, and authentic tone\n",
    "\n",
    "**Content Style:**\n",
    "- Start with an emoji or hook that complements the visual\n",
    "- Tell micro-stories that evoke emotion\n",
    "- Use \"you\" language to speak directly to followers\n",
    "- Create captions that feel like a friend sharing something exciting\n",
    "- End with clear CTAs: \"Double tap if...\", \"Tag someone who...\", \"Save this for...\"\n",
    "- Incorporate trending phrases and relatable moments\n",
    "\n",
    "**Caption Structure:**\n",
    "1. Hook/Emoji opener 🎯\n",
    "2. Value or story (2-4 short lines)\n",
    "3. Engagement prompt\n",
    "4. Relevant hashtags\n",
    "\n",
    "**Avoid:**\n",
    "- Corporate or stiff language\n",
    "- Walls of text without breaks\n",
    "- Being too sales-y or promotional\n",
    "- Forgetting the call-to-action\n",
    "\"\"\""
   ]
  },
  {
   "cell_type": "code",
   "execution_count": 30,
   "metadata": {},
   "outputs": [],
   "source": [
    "model = OpenAIChatCompletionsModel(\n",
    "    model=\"gemini-2.5-flash\",\n",
    "    openai_client=external_client\n",
    ")\n",
    "\n",
    "linkedin = Agent(\n",
    "        name=\"linkedin Writer\",\n",
    "        instructions=linkedin_specialist,\n",
    "        model=model,\n",
    ")\n",
    "\n",
    "twitter = Agent(\n",
    "        name=\"twitter Writer\",\n",
    "        instructions=twitter_specialist,\n",
    "        model=model,\n",
    ")\n",
    "\n",
    "instagram = Agent(\n",
    "        name=\"instagram Writer\",\n",
    "        instructions=instagram_specialist,\n",
    "        model=model,\n",
    ")"
   ]
  },
  {
   "cell_type": "code",
   "execution_count": 29,
   "metadata": {},
   "outputs": [
    {
     "name": "stdout",
     "output_type": "stream",
     "text": [
      "The buzz around Large Language Models (LLMs) is undeniable, but beyond the hype, are we truly harnessing their transformative power, or simply getting caught in the current? Many organizations are experimenting, but strategic, value-driven integration remains a significant hurdle.\n",
      "\n",
      "It's easy to be dazzled by LLMs' capabilities – generating content, summarizing complex documents, even coding. However, the real challenge lies in moving past ad-hoc experimentation to embedding them strategically within core business processes. Without a clear roadmap, the risks of \"hallucinations,\" data privacy breaches, and ethical missteps escalate, turning potential innovation into operational liabilities.\n",
      "\n",
      "Effective LLM adoption isn't about simply throwing data at a model and hoping for the best. It starts with a precise understanding of your business problems and how LLMs can offer a *specific, measurable* solution. Think about use cases that amplify human intelligence, streamline repetitive tasks, or unlock new insights from your proprietary data, rather than just automating for automation's sake.\n",
      "\n",
      "Prioritize data quality and governance. Your LLM's output is only as good as the input it receives and the guardrails you establish. Investing in robust data pipelines and clear ethical guidelines isn't just good practice; it's foundational for deriving reliable, trustworthy business value. This is where strategic foresight truly distinguishes sustainable innovation from fleeting trends.\n",
      "\n",
      "The shift isn't just technological; it's organizational. It demands new skill sets, cross-functional collaboration, and a leadership vision that understands both the immense potential and the critical limitations of AI. Are we ready to build the intelligent infrastructure for tomorrow?\n",
      "\n",
      "What's your organization's biggest win or most pressing challenge in leveraging LLMs strategically? Share your insights!\n",
      "\n",
      "#LLMs #AIinBusiness #DigitalTransformation #TechStrategy #FutureofWork"
     ]
    }
   ],
   "source": [
    "\n",
    "result = Runner.run_streamed(linkedin, input=\"Write a content for linkedin page about llm \")\n",
    "async for event in result.stream_events():\n",
    "    if event.type == \"raw_response_event\" and isinstance(event.data, ResponseTextDeltaEvent):\n",
    "        print(event.data.delta, end=\"\", flush=True)"
   ]
  },
  {
   "cell_type": "code",
   "execution_count": 18,
   "metadata": {},
   "outputs": [
    {
     "name": "stdout",
     "output_type": "stream",
     "text": [
      "Are Large Language Models (LLMs) just a productivity hack, or are they fundamentally reshaping the core of business communication as we know it?\n",
      "\n",
      "The emergence of LLMs like ChatGPT and Gemini has ushered in an era of unprecedented efficiency. From drafting internal memos to crafting client proposals, these tools offer immense potential to accelerate communication workflows and free up valuable time for strategic tasks.\n",
      "\n",
      "However, the real challenge isn't merely *using* an LLM; it's about integrating them strategically and intelligently into your communication strategy. Many organizations are grappling with how to maintain a consistent brand voice, ensure factual accuracy, and uphold ethical standards when deploying AI-generated content. The risk isn't just generic, bland output; it's the potential erosion of authentic connection and nuanced messaging if these tools are used without proper oversight and a clear human touch.\n",
      "\n",
      "My experience navigating this evolving landscape suggests that effective LLM integration isn't about outsourcing your brain; it's about augmenting it. Consider LLMs as powerful co-pilots for iteration, ideation, and refinement, rather than complete replacements for critical thinking, emotional intelligence, or the unique empathy that underpins truly impactful human interaction.\n",
      "\n",
      "The most successful communicators I observe are those establishing clear guardrails: defining their brand's 'AI persona,' implementing robust human review processes, and rigorously training teams not just on *how* to prompt, but *what* makes for genuinely compelling and ethical communication, irrespective of the tool used. This approach elevates human capability rather than diminishing it.\n",
      "\n",
      "Utilize LLMs to analyze vast datasets for insights, summarize complex information, or generate diverse first drafts, thereby allowing human communicators to dedicate their focus to strategic narrative development, relationship building, and the essential, nuanced art of persuasion. It’s about leveraging AI for speed and scale, while reserving human intellect for depth and connection.\n",
      "\n",
      "Don't just automate for the sake of efficiency; elevate the quality and impact of your message. Challenge your team to use LLMs to accelerate insights and enhance clarity, always with a critical human editor ensuring the final communication resonates authentically, strategically, and with unwavering conviction for your audience.\n",
      "\n",
      "How are you leveraging LLMs to enhance — not replace — human communication in your organization? Share your strategies and insights below!\n",
      "\n",
      "#LLMs #BusinessCommunication #AIinBusiness #FutureofWork #DigitalTransformation #StrategicCommunication\n",
      "\n",
      "\n",
      "Okay, bridging the gap between a LinkedIn focus and my Twitter content persona, here's a punchy update about LLMs, designed for maximum engagement on your LinkedIn feed:\n",
      "\n",
      "---\n",
      "\n",
      "LLMs aren't just buzzwords, they're becoming essential. From boosting productivity to unlocking new insights, their impact is rapidly reshaping industries.\n",
      "\n",
      "Are you adapting your strategy? Or still watching from the sidelines? 🤔 Let's discuss!\n",
      "\n",
      "#AI #LLMsInBusiness\n",
      "\n",
      "\n",
      "Here's a LinkedIn-tailored post about LLMs, adapted from the Instagram guidelines to suit a professional audience while retaining engagement:\n",
      "\n",
      "---\n",
      "\n",
      "💡 The transformational power of Large Language Models (LLMs) is undeniable, fundamentally reshaping how we approach innovation and productivity.\n",
      "\n",
      "From automating complex tasks to accelerating research and development, LLMs are opening new frontiers for businesses. But with great power comes great responsibility: addressing ethical implications, data privacy, and ensuring robust, fair deployment are paramount for sustainable success.\n",
      "\n",
      "What are your thoughts on responsibly integrating LLMs into existing workflows? Share your insights and experiences! 👇\n",
      "\n",
      "#LLMs #AI #ArtificialIntelligence #MachineLearning #TechInnovation #DigitalTransformation #FutureOfWork #DataScience #AIStrategy\n",
      "\n",
      "\n"
     ]
    }
   ],
   "source": [
    "message = \"Write a content for linkedin page about llm\"\n",
    "\n",
    "with trace(\"Parallel cold emails\"):\n",
    "    results = await asyncio.gather(\n",
    "        Runner.run(linkedin, message),\n",
    "        Runner.run(twitter, message),\n",
    "        Runner.run(instagram, message),\n",
    "    )\n",
    "\n",
    "outputs = [result.final_output for result in results]\n",
    "\n",
    "for output in outputs:\n",
    "    print(output + \"\\n\\n\")\n"
   ]
  },
  {
   "cell_type": "code",
   "execution_count": 31,
   "metadata": {},
   "outputs": [],
   "source": [
    "sales_picker = Agent(\n",
    "    name=\"sales_picker\",\n",
    "    instructions=\"You pick the best content generated from the given options. \\\n",
    "Imagine you are a customer and pick the one you are most likely to read that. \\\n",
    "Do not give an explanation; reply with the selected email only.\",\n",
    "    model=model,\n",
    ")"
   ]
  },
  {
   "cell_type": "code",
   "execution_count": 32,
   "metadata": {},
   "outputs": [
    {
     "name": "stdout",
     "output_type": "stream",
     "text": [
      "contents:\n",
      "\n",
      "Is your organization truly ready to move beyond the LLM hype and into actionable transformation?\n",
      "\n",
      "Large Language Models (LLMs) have undeniably dominated tech conversations, promising unprecedented efficiency and innovation. Yet, many businesses are still grappling with how to translate this immense potential into tangible, strategic advantage. It's more than just automating a few basic tasks; it's about fundamentally redefining workflows and unlocking entirely new capabilities.\n",
      "\n",
      "The real power of LLMs lies in their ability to synthesize vast amounts of unstructured data, generate creative and contextually relevant content, and enable hyper-personalized interactions at an unprecedented scale. Imagine streamlining complex legal document review, accelerating market research by extracting nuanced insights from customer feedback, or developing highly targeted marketing campaigns with dynamic content generation. These aren't futuristic concepts; they are present-day applications for forward-thinking businesses.\n",
      "\n",
      "However, widespread adoption isn't without its complexities. Navigating data privacy concerns, ensuring ethical AI deployment, managing \"hallucinations\" and biases, and achieving seamless integration with existing systems are critical hurdles. A strategic approach demands a deep understanding of your data ecosystem, robust governance frameworks, and a steadfast commitment to responsible AI development. It's not just about deploying a model, but building an intelligent, secure, and compliant system around it.\n",
      "\n",
      "For business leaders, the imperative is clear: start small, experiment widely, and prioritize data quality and secure deployment from the outset. Identify high-value use cases that align directly with core business objectives, invest in upskilling your teams, and foster a culture of ethical AI innovation. The competitive edge will increasingly belong to those who move from LLM exploration to strategic execution with precision and purpose.\n",
      "\n",
      "How is your organization navigating the opportunities and challenges presented by LLMs? Share your insights and experiences below!\n",
      "\n",
      "#LLM #AI #BusinessTransformation #DigitalStrategy #Innovation\n",
      "\n",
      "LLMs are straight up changing the game! 🤯 From writing code to drafting emails, it's wild how powerful they're becoming.\n",
      "\n",
      "What's your favorite way to use them? Drop your tips! 👇 #AI #LLMs\n",
      "\n",
      "🧠✨ Ever wonder how AI \"thinks\"? You're likely interacting with a Large Language Model (LLM) right now!\n",
      "\n",
      "These powerful AI brains understand, generate, and learn from human language at scale. From crafting content to answering questions, LLMs are reshaping our digital world. 🤖💡\n",
      "\n",
      "It's like having a super-smart assistant ready to innovate! Mind-blowing, right?\n",
      "\n",
      "What's the most surprising thing you've seen an AI do? Share your thoughts below! 👇\n",
      "\n",
      "#LLM #ArtificialIntelligence #AI #MachineLearning #TechInnovation #FutureTech #AIRevolution #DeepLearning #GenerativeAI #AITech #DigitalFuture\n",
      "------------------------------------------\n",
      "Best Content is :\n",
      "Is your organization truly ready to move beyond the LLM hype and into actionable transformation?\n",
      "\n",
      "Large Language Models (LLMs) have undeniably dominated tech conversations, promising unprecedented efficiency and innovation. Yet, many businesses are still grappling with how to translate this immense potential into tangible, strategic advantage. It's more than just automating a few basic tasks; it's about fundamentally redefining workflows and unlocking entirely new capabilities.\n",
      "\n",
      "The real power of LLMs lies in their ability to synthesize vast amounts of unstructured data, generate creative and contextually relevant content, and enable hyper-personalized interactions at an unprecedented scale. Imagine streamlining complex legal document review, accelerating market research by extracting nuanced insights from customer feedback, or developing highly targeted marketing campaigns with dynamic content generation. These aren't futuristic concepts; they are present-day applications for forward-thinking businesses.\n",
      "\n",
      "However, widespread adoption isn't without its complexities. Navigating data privacy concerns, ensuring ethical AI deployment, managing \"hallucinations\" and biases, and achieving seamless integration with existing systems are critical hurdles. A strategic approach demands a deep understanding of your data ecosystem, robust governance frameworks, and a steadfast commitment to responsible AI development. It's not just about deploying a model, but building an intelligent, secure, and compliant system around it.\n",
      "\n",
      "For business leaders, the imperative is clear: start small, experiment widely, and prioritize data quality and secure deployment from the outset. Identify high-value use cases that align directly with core business objectives, invest in upskilling your teams, and foster a culture of ethical AI innovation. The competitive edge will increasingly belong to those who move from LLM exploration to strategic execution with precision and purpose.\n",
      "\n",
      "How is your organization navigating the opportunities and challenges presented by LLMs? Share your insights and experiences below!\n",
      "\n",
      "#LLM #AI #BusinessTransformation #DigitalStrategy #Innovation\n"
     ]
    }
   ],
   "source": [
    "tracing_api_key = os.environ[\"OPENAI_API_KEY\"]\n",
    "set_tracing_export_api_key(tracing_api_key)\n",
    "\n",
    "message = \"Write a content about llm\"\n",
    "\n",
    "with trace(\"Selection from sales people\"):\n",
    "    results = await asyncio.gather(\n",
    "        Runner.run(linkedin, message),\n",
    "        Runner.run(twitter, message),\n",
    "        Runner.run(instagram, message),\n",
    "    )\n",
    "    outputs = [result.final_output for result in results]\n",
    "\n",
    "    contents = \"contents:\\n\\n\" + \"\\n\\n\".join(outputs)\n",
    "    print(contents)\n",
    "\n",
    "    best = await Runner.run(sales_picker, contents)\n",
    "    print(\"------------------------------------------\")\n",
    "    print(f\"Best Content is :\\n{best.final_output}\")\n"
   ]
  },
  {
   "cell_type": "markdown",
   "metadata": {},
   "source": [
    "Now go and check out the trace:\n",
    "\n",
    "https://platform.openai.com/traces"
   ]
  },
  {
   "cell_type": "markdown",
   "metadata": {},
   "source": [
    "## Part 2: use of tools\n",
    "\n",
    "Now we will add a tool to the mix.\n",
    "\n",
    "Remember all that json boilerplate and the `handle_tool_calls()` function with the if logic.."
   ]
  },
  {
   "cell_type": "code",
   "execution_count": 46,
   "metadata": {},
   "outputs": [],
   "source": [
    "linkedin_writer_person = Agent(\n",
    "        name=\"linkedin Writer\",\n",
    "        instructions=linkedin_specialist,\n",
    "        model=model,\n",
    ")\n",
    "\n",
    "twitter_writer_person = Agent(\n",
    "        name=\"twitter Writer\",\n",
    "        instructions=twitter_specialist,\n",
    "        model=model,\n",
    ")\n",
    "\n",
    "instagram_writer_person = Agent(\n",
    "        name=\"instagram Writer\",\n",
    "        instructions=instagram_specialist,\n",
    "        model=model,\n",
    ")\n",
    "\n",
    "convert_to_normal_text = Agent(\n",
    "        name=\"Text Convertor\",\n",
    "        instructions=\"\"\"you should convert text to normal format of text for example remove the \\n and another extra keyword and if detect unusual character remove that \"\"\",\n",
    "        model=model,\n",
    ")"
   ]
  },
  {
   "cell_type": "code",
   "execution_count": 34,
   "metadata": {},
   "outputs": [
    {
     "data": {
      "text/plain": [
       "Agent(name='linkedin Writer', instructions='You are a professional LinkedIn content writer specializing in business communication. Your role is to create compelling, thought-leadership content that engages professional audiences.\\n\\n**Writing Guidelines:**\\n- Maintain a professional yet approachable tone\\n- Focus on business value, industry insights, and professional development\\n- Length: 1500-2000 characters (aim for the sweet spot of engagement)\\n- Structure posts with clear hooks, body, and calls-to-action\\n- Use line breaks for readability (2-3 sentence paragraphs)\\n- Include relevant hashtags (3-5 maximum) at the end\\n- Emphasize expertise, data-driven insights, and actionable takeaways\\n\\n**Content Style:**\\n- Lead with a strong opening that poses a question or bold statement\\n- Tell stories that illustrate business lessons\\n- Share insights from experience or industry trends\\n- End with engagement prompts (questions, CTAs, discussion starters)\\n- Use credible statistics when relevant\\n- Avoid excessive jargon while maintaining professional credibility\\n\\n**Avoid:**\\n- Overly casual language or slang\\n- Emojis (use sparingly, if at all)\\n- Hard selling or aggressive promotion\\n- Clickbait or sensationalism\\n', prompt=None, handoff_description=None, handoffs=[], model=<agents.models.openai_chatcompletions.OpenAIChatCompletionsModel object at 0x000001B4BF0AF3E0>, model_settings=ModelSettings(temperature=None, top_p=None, frequency_penalty=None, presence_penalty=None, tool_choice=None, parallel_tool_calls=None, truncation=None, max_tokens=None, reasoning=None, metadata=None, store=None, include_usage=None, extra_query=None, extra_body=None, extra_headers=None, extra_args=None), tools=[], mcp_servers=[], mcp_config={}, input_guardrails=[], output_guardrails=[], output_type=None, hooks=None, tool_use_behavior='run_llm_again', reset_tool_choice=True)"
      ]
     },
     "execution_count": 34,
     "metadata": {},
     "output_type": "execute_result"
    }
   ],
   "source": [
    "linkedin_writer_person"
   ]
  },
  {
   "cell_type": "markdown",
   "metadata": {},
   "source": [
    "## Steps 2 and 3: Tools and Agent interactions\n",
    "\n",
    "Remember all that boilerplate json?\n",
    "\n",
    "Simply wrap your function with the decorator `@function_tool`"
   ]
  },
  {
   "cell_type": "code",
   "execution_count": 35,
   "metadata": {},
   "outputs": [
    {
     "name": "stdout",
     "output_type": "stream",
     "text": [
      "Pushover user found and starts with u\n",
      "Pushover token found and starts with a\n"
     ]
    }
   ],
   "source": [
    "# For pushover\n",
    "import requests\n",
    "\n",
    "\n",
    "pushover_user = os.getenv(\"PUSHOVER_USER\")\n",
    "pushover_token = os.getenv(\"PUSHOVER_TOKEN\")\n",
    "pushover_url = \"https://api.pushover.net/1/messages.json\"\n",
    "\n",
    "if pushover_user:\n",
    "    print(f\"Pushover user found and starts with {pushover_user[0]}\")\n",
    "else:\n",
    "    print(\"Pushover user not found\")\n",
    "\n",
    "if pushover_token:\n",
    "    print(f\"Pushover token found and starts with {pushover_token[0]}\")\n",
    "else:\n",
    "    print(\"Pushover token not found\")\n",
    "    \n",
    "    \n",
    "\n",
    "def push(message):\n",
    "    print(f\"Push: {message}\")\n",
    "    payload = {\"user\": pushover_user, \"token\": pushover_token, \"message\": message}\n",
    "    requests.post(pushover_url, data=payload)"
   ]
  },
  {
   "cell_type": "code",
   "execution_count": 47,
   "metadata": {},
   "outputs": [],
   "source": [
    "@function_tool\n",
    "def send_message(body: str):\n",
    "    \"\"\" Send out an email with the given body to all sales prospects \"\"\"\n",
    "    push(body)\n",
    "    return {\"status\": \"success\"}"
   ]
  },
  {
   "cell_type": "markdown",
   "metadata": {},
   "source": [
    "### This has automatically been converted into a tool, with the boilerplate json created"
   ]
  },
  {
   "cell_type": "code",
   "execution_count": 48,
   "metadata": {},
   "outputs": [
    {
     "data": {
      "text/plain": [
       "FunctionTool(name='send_message', description='Send out an email with the given body to all sales prospects', params_json_schema={'properties': {'body': {'title': 'Body', 'type': 'string'}}, 'required': ['body'], 'title': 'send_message_args', 'type': 'object', 'additionalProperties': False}, on_invoke_tool=<function function_tool.<locals>._create_function_tool.<locals>._on_invoke_tool at 0x000001B4BEBF9760>, strict_json_schema=True, is_enabled=True)"
      ]
     },
     "execution_count": 48,
     "metadata": {},
     "output_type": "execute_result"
    }
   ],
   "source": [
    "# Let's look at it\n",
    "send_message"
   ]
  },
  {
   "cell_type": "markdown",
   "metadata": {},
   "source": [
    "### And you can also convert an Agent into a tool"
   ]
  },
  {
   "cell_type": "code",
   "execution_count": 49,
   "metadata": {},
   "outputs": [
    {
     "data": {
      "text/plain": [
       "FunctionTool(name='linkedin_writer_person_tool', description='Write a content for linkedin', params_json_schema={'properties': {'input': {'title': 'Input', 'type': 'string'}}, 'required': ['input'], 'title': 'linkedin_writer_person_tool_args', 'type': 'object', 'additionalProperties': False}, on_invoke_tool=<function function_tool.<locals>._create_function_tool.<locals>._on_invoke_tool at 0x000001B4BF764220>, strict_json_schema=True, is_enabled=True)"
      ]
     },
     "execution_count": 49,
     "metadata": {},
     "output_type": "execute_result"
    }
   ],
   "source": [
    "linkedin_writer_person_tool = linkedin_writer_person.as_tool(tool_name=\"linkedin_writer_person_tool\", tool_description=\"Write a content for linkedin\")\n",
    "linkedin_writer_person_tool"
   ]
  },
  {
   "cell_type": "markdown",
   "metadata": {},
   "source": [
    "### So now we can gather all the tools together:\n",
    "\n",
    "A tool for each of our 3 email-writing agents\n",
    "\n",
    "And a tool for our function to send emails"
   ]
  },
  {
   "cell_type": "code",
   "execution_count": 50,
   "metadata": {},
   "outputs": [
    {
     "data": {
      "text/plain": [
       "[FunctionTool(name='convert_to_normal_text', description='convert text', params_json_schema={'properties': {'input': {'title': 'Input', 'type': 'string'}}, 'required': ['input'], 'title': 'convert_to_normal_text_args', 'type': 'object', 'additionalProperties': False}, on_invoke_tool=<function function_tool.<locals>._create_function_tool.<locals>._on_invoke_tool at 0x000001B4BF764900>, strict_json_schema=True, is_enabled=True),\n",
       " FunctionTool(name='linkedin_writer_person_tool', description='Write a content for linkedin', params_json_schema={'properties': {'input': {'title': 'Input', 'type': 'string'}}, 'required': ['input'], 'title': 'linkedin_writer_person_tool_args', 'type': 'object', 'additionalProperties': False}, on_invoke_tool=<function function_tool.<locals>._create_function_tool.<locals>._on_invoke_tool at 0x000001B4BF83C860>, strict_json_schema=True, is_enabled=True),\n",
       " FunctionTool(name='instagram_writer_person', description='Write a content for instagram', params_json_schema={'properties': {'input': {'title': 'Input', 'type': 'string'}}, 'required': ['input'], 'title': 'instagram_writer_person_args', 'type': 'object', 'additionalProperties': False}, on_invoke_tool=<function function_tool.<locals>._create_function_tool.<locals>._on_invoke_tool at 0x000001B4BF70DEE0>, strict_json_schema=True, is_enabled=True),\n",
       " FunctionTool(name='twitter_writer_person', description='Write a content for twitter', params_json_schema={'properties': {'input': {'title': 'Input', 'type': 'string'}}, 'required': ['input'], 'title': 'twitter_writer_person_args', 'type': 'object', 'additionalProperties': False}, on_invoke_tool=<function function_tool.<locals>._create_function_tool.<locals>._on_invoke_tool at 0x000001B4BF70D260>, strict_json_schema=True, is_enabled=True),\n",
       " FunctionTool(name='send_message', description='Send out an email with the given body to all sales prospects', params_json_schema={'properties': {'body': {'title': 'Body', 'type': 'string'}}, 'required': ['body'], 'title': 'send_message_args', 'type': 'object', 'additionalProperties': False}, on_invoke_tool=<function function_tool.<locals>._create_function_tool.<locals>._on_invoke_tool at 0x000001B4BEBF9760>, strict_json_schema=True, is_enabled=True)]"
      ]
     },
     "execution_count": 50,
     "metadata": {},
     "output_type": "execute_result"
    }
   ],
   "source": [
    "\n",
    "\n",
    "linkedin_writer_person_tool = linkedin_writer_person.as_tool(tool_name=\"linkedin_writer_person_tool\", tool_description=\"Write a content for linkedin\")\n",
    "instagram_writer_person_tool = instagram_writer_person.as_tool(tool_name=\"instagram_writer_person\", tool_description=\"Write a content for instagram\")\n",
    "twitter_writer_person_tool = twitter_writer_person.as_tool(tool_name=\"twitter_writer_person\", tool_description=\"Write a content for twitter\")\n",
    "convert_to_normal_text_tool = convert_to_normal_text.as_tool(tool_name=\"convert_to_normal_text\", tool_description=\"convert text\")\n",
    "\n",
    "tools = [convert_to_normal_text_tool , linkedin_writer_person_tool, instagram_writer_person_tool, twitter_writer_person_tool, send_message]\n",
    "\n",
    "tools"
   ]
  },
  {
   "cell_type": "markdown",
   "metadata": {},
   "source": [
    "## And now it's time for our Sales Manager - our planning agent"
   ]
  },
  {
   "cell_type": "code",
   "execution_count": 51,
   "metadata": {},
   "outputs": [
    {
     "name": "stdout",
     "output_type": "stream",
     "text": [
      "Push: Hi dear, Excited to share insights into backend development! What truly differentiates a good application from a great one? Beyond the polished user interface, it's the strength and resilience of its backend—the unseen engine that powers every interaction and ensures seamless functionality. Building a robust application isn't just about writing code; it's about architecting a foundation that can scale, perform, and secure.\n",
      "\n",
      "At the heart of this foundation lie several critical components. API development acts as the communication bridge, enabling different parts of your system and external services to interact effortlessly. Without well-designed APIs, data flow becomes fragmented, and integration challenges mount, impacting overall system efficiency.\n",
      "\n",
      "Database management is equally crucial, serving as the application's memory. Effective strategies ensure data integrity, rapid retrieval, and scalable storage, which are non-negotiable for delivering reliable user experiences. Meanwhile, robust user authentication and authorization mechanisms are paramount for safeguarding sensitive information and controlling access, providing the essential security layer every application demands.\n",
      "\n",
      "Finally, sophisticated server-side logic processes requests, enforces business rules, and orchestrates the complex operations that deliver value to your users. This logic dictates how data is handled, decisions are made, and features are executed, directly impacting an application's intelligence and responsiveness.\n",
      "\n",
      "Choosing the right technological stack for this powerhouse is a strategic decision. Popular choices each bring distinct advantages for scalability and performance: Python (with frameworks like Django, Flask) is celebrated for its versatility, rapid development capabilities, and extensive library ecosystem, making it excellent for diverse applications and quick prototyping. Node.js (Express) excels in event-driven, non-blocking I/O, proving ideal for real-time applications, high-throughput systems, and microservices architectures. Java (Spring Boot) offers an enterprise-grade, highly scalable, and exceptionally robust environment, perfectly suited for complex, large-scale corporate systems demanding stability and performance. Go (Golang) is increasingly favored for its remarkable concurrency, efficiency, and minimal resource footprint, making it a strong contender for high-performance backend services and systems programming.\n",
      "\n",
      "Selecting the appropriate language and framework isn't merely a technical preference; it's an investment in an application's future resilience, performance, and maintainability. It dictates how well your digital product can evolve with changing business demands and user expectations.\n",
      "\n",
      "Thanks from Amir\n"
     ]
    }
   ],
   "source": [
    "# Improved instructions thanks to student Guillermo F.\n",
    "\n",
    "instructions = \"\"\"\n",
    "You are a content generator at AmirCompany. Your goal is to find the single best content using the tools.\n",
    " \n",
    "Follow these steps carefully:\n",
    "1. Generate Drafts: Use all  tools to generate  different content. Do not proceed until all three drafts are ready.\n",
    " \n",
    "2. Evaluate and Select: Review the drafts and choose the single best content using your judgment of which one is most effective.\n",
    " \n",
    "3. after the find best answer from llm you should read the output generated and generate new outout with remove extra character\n",
    "\n",
    "4. Use the send_message tool to send the best content (and only the best content) to the user.\n",
    " \n",
    "Crucial Rules:\n",
    "- You must use the content generator agent tools to generate the drafts — do not write them yourself.\n",
    "- you must use convert_to_normal_text tools for format the text\n",
    "- You must send content from  convert_to_normal_text using the send_message tool — never more than one.\n",
    "\"\"\"\n",
    "\n",
    "\n",
    "content_manager = Agent(name=\"Content Manager (Head Of Team)\", instructions=instructions, tools=tools, model=model)\n",
    "\n",
    "message = \"send a message about backend feature  and language we can use . start with hi dear and end of sentence you should thanks from amir \"\n",
    "\n",
    "with trace(\"Content Manager\"):\n",
    "    result = await Runner.run(content_manager, message)"
   ]
  },
  {
   "cell_type": "markdown",
   "metadata": {},
   "source": [
    "<table style=\"margin: 0; text-align: left; width:100%\">\n",
    "    <tr>\n",
    "        <td style=\"width: 150px; height: 150px; vertical-align: middle;\">\n",
    "            <img src=\"../assets/stop.png\" width=\"150\" height=\"150\" style=\"display: block;\" />\n",
    "        </td>\n",
    "        <td>\n",
    "            <h2 style=\"color:#ff7800;\">Wait - you didn't get an email??</h2>\n",
    "            <span style=\"color:#ff7800;\">With much thanks to student Chris S. for describing his issue and fixes. \n",
    "            If you don't receive an email after running the prior cell, here are some things to check: <br/>\n",
    "            First, check your Spam folder! Several students have missed that the emails arrived in Spam!<br/>Second, print(result) and see if you are receiving errors about SSL. \n",
    "            If you're receiving SSL errors, then please check out theses <a href=\"https://chatgpt.com/share/680620ec-3b30-8012-8c26-ca86693d0e3d\">networking tips</a> and see the note in the next cell. Also look at the trace in OpenAI, and investigate on the SendGrid website, to hunt for clues. Let me know if I can help!\n",
    "            </span>\n",
    "        </td>\n",
    "    </tr>\n",
    "</table>"
   ]
  },
  {
   "cell_type": "markdown",
   "metadata": {},
   "source": [
    "### And one more suggestion to send emails from student Oleksandr on Windows 11:\n",
    "\n",
    "If you are getting certificate SSL errors, then:  \n",
    "Run this in a terminal: `uv pip install --upgrade certifi`\n",
    "\n",
    "Then run this code:\n",
    "```python\n",
    "import certifi\n",
    "import os\n",
    "os.environ['SSL_CERT_FILE'] = certifi.where()\n",
    "```\n",
    "\n",
    "Thank you Oleksandr!"
   ]
  },
  {
   "cell_type": "markdown",
   "metadata": {},
   "source": [
    "## Remember to check the trace\n",
    "\n",
    "https://platform.openai.com/traces\n",
    "\n",
    "And then check your email!!\n"
   ]
  },
  {
   "cell_type": "markdown",
   "metadata": {},
   "source": [
    "### Handoffs represent a way an agent can delegate to an agent, passing control to it\n",
    "\n",
    "Handoffs and Agents-as-tools are similar:\n",
    "\n",
    "In both cases, an Agent can collaborate with another Agent\n",
    "\n",
    "With tools, control passes back\n",
    "\n",
    "With handoffs, control passes across\n",
    "\n"
   ]
  },
  {
   "cell_type": "code",
   "execution_count": null,
   "metadata": {},
   "outputs": [],
   "source": [
    "\n",
    "subject_instructions = \"You can write a subject for a content. \\\n",
    "You are given a message and you need to write a subject for an content that is likely to get a response.\"\n",
    "\n",
    "html_instructions = \"You can convert a text  body to an HTML  body. \\\n",
    "You are given a text email body which might have some markdown \\\n",
    "and you need to convert it to an HTML email body with simple, clear, compelling layout and design.\"\n",
    "\n",
    "subject_writer = Agent(name=\"Content subject writer\", instructions=subject_instructions, model=model)\n",
    "subject_tool = subject_writer.as_tool(tool_name=\"subject_writer\", tool_description=\"Write a subject for a content\")\n",
    "\n",
    "html_converter = Agent(name=\"HTML  body converter\", instructions=html_instructions, model=\"gpt-4o-mini\")\n",
    "html_tool = html_converter.as_tool(tool_name=\"html_converter\",tool_description=\"Convert a text  body to an HTML content body\")\n"
   ]
  },
  {
   "cell_type": "code",
   "execution_count": 54,
   "metadata": {},
   "outputs": [],
   "source": [
    "tools = [subject_tool, html_tool, send_message]"
   ]
  },
  {
   "cell_type": "code",
   "execution_count": null,
   "metadata": {},
   "outputs": [],
   "source": [
    "tools"
   ]
  },
  {
   "cell_type": "code",
   "execution_count": 55,
   "metadata": {},
   "outputs": [],
   "source": [
    "instructions =\"You are an content formatter and sender. You receive the body of an content to be sent. \\\n",
    "You first use the subject_writer tool to write a subject for the email, then use the html_converter tool to convert the body to HTML. \\\n",
    "Finally, you use the send_message tool to send the text with the subject and HTML body.\"\n",
    "\n",
    "\n",
    "emailer_agent = Agent(\n",
    "    name=\"Email Manager\",\n",
    "    instructions=instructions,\n",
    "    tools=tools,\n",
    "    model=model,\n",
    "    handoff_description=\"Convert an text to HTML and send it\")\n"
   ]
  },
  {
   "cell_type": "markdown",
   "metadata": {},
   "source": [
    "### Now we have 3 tools and 1 handoff"
   ]
  },
  {
   "cell_type": "code",
   "execution_count": 56,
   "metadata": {},
   "outputs": [
    {
     "name": "stdout",
     "output_type": "stream",
     "text": [
      "[FunctionTool(name='convert_to_normal_text', description='convert text', params_json_schema={'properties': {'input': {'title': 'Input', 'type': 'string'}}, 'required': ['input'], 'title': 'convert_to_normal_text_args', 'type': 'object', 'additionalProperties': False}, on_invoke_tool=<function function_tool.<locals>._create_function_tool.<locals>._on_invoke_tool at 0x000001B4BF764900>, strict_json_schema=True, is_enabled=True), FunctionTool(name='linkedin_writer_person_tool', description='Write a content for linkedin', params_json_schema={'properties': {'input': {'title': 'Input', 'type': 'string'}}, 'required': ['input'], 'title': 'linkedin_writer_person_tool_args', 'type': 'object', 'additionalProperties': False}, on_invoke_tool=<function function_tool.<locals>._create_function_tool.<locals>._on_invoke_tool at 0x000001B4BF83C860>, strict_json_schema=True, is_enabled=True), FunctionTool(name='instagram_writer_person', description='Write a content for instagram', params_json_schema={'properties': {'input': {'title': 'Input', 'type': 'string'}}, 'required': ['input'], 'title': 'instagram_writer_person_args', 'type': 'object', 'additionalProperties': False}, on_invoke_tool=<function function_tool.<locals>._create_function_tool.<locals>._on_invoke_tool at 0x000001B4BF70DEE0>, strict_json_schema=True, is_enabled=True), FunctionTool(name='twitter_writer_person', description='Write a content for twitter', params_json_schema={'properties': {'input': {'title': 'Input', 'type': 'string'}}, 'required': ['input'], 'title': 'twitter_writer_person_args', 'type': 'object', 'additionalProperties': False}, on_invoke_tool=<function function_tool.<locals>._create_function_tool.<locals>._on_invoke_tool at 0x000001B4BF70D260>, strict_json_schema=True, is_enabled=True)]\n",
      "[Agent(name='Email Manager', instructions='You are an content formatter and sender. You receive the body of an content to be sent. You first use the subject_writer tool to write a subject for the email, then use the html_converter tool to convert the body to HTML. Finally, you use the send_message tool to send the text with the subject and HTML body.', prompt=None, handoff_description='Convert an text to HTML and send it', handoffs=[], model=<agents.models.openai_chatcompletions.OpenAIChatCompletionsModel object at 0x000001B4BF0AF3E0>, model_settings=ModelSettings(temperature=None, top_p=None, frequency_penalty=None, presence_penalty=None, tool_choice=None, parallel_tool_calls=None, truncation=None, max_tokens=None, reasoning=None, metadata=None, store=None, include_usage=None, extra_query=None, extra_body=None, extra_headers=None, extra_args=None), tools=[FunctionTool(name='subject_writer', description='Write a subject for a content', params_json_schema={'properties': {'input': {'title': 'Input', 'type': 'string'}}, 'required': ['input'], 'title': 'subject_writer_args', 'type': 'object', 'additionalProperties': False}, on_invoke_tool=<function function_tool.<locals>._create_function_tool.<locals>._on_invoke_tool at 0x000001B4BF766E80>, strict_json_schema=True, is_enabled=True), FunctionTool(name='html_converter', description='Convert a text  body to an HTML content body', params_json_schema={'properties': {'input': {'title': 'Input', 'type': 'string'}}, 'required': ['input'], 'title': 'html_converter_args', 'type': 'object', 'additionalProperties': False}, on_invoke_tool=<function function_tool.<locals>._create_function_tool.<locals>._on_invoke_tool at 0x000001B4BF764B80>, strict_json_schema=True, is_enabled=True), FunctionTool(name='send_message', description='Send out an email with the given body to all sales prospects', params_json_schema={'properties': {'body': {'title': 'Body', 'type': 'string'}}, 'required': ['body'], 'title': 'send_message_args', 'type': 'object', 'additionalProperties': False}, on_invoke_tool=<function function_tool.<locals>._create_function_tool.<locals>._on_invoke_tool at 0x000001B4BEBF9760>, strict_json_schema=True, is_enabled=True)], mcp_servers=[], mcp_config={}, input_guardrails=[], output_guardrails=[], output_type=None, hooks=None, tool_use_behavior='run_llm_again', reset_tool_choice=True)]\n"
     ]
    }
   ],
   "source": [
    "tools = [convert_to_normal_text_tool , linkedin_writer_person_tool, instagram_writer_person_tool, twitter_writer_person_tool]\n",
    "handoffs = [emailer_agent]\n",
    "print(tools)\n",
    "print(handoffs)"
   ]
  },
  {
   "cell_type": "code",
   "execution_count": 57,
   "metadata": {},
   "outputs": [
    {
     "name": "stderr",
     "output_type": "stream",
     "text": [
      "Error getting response: Error code: 429 - {'error': {'message': 'You exceeded your current quota, please check your plan and billing details. For more information on this error, read the docs: https://platform.openai.com/docs/guides/error-codes/api-errors.', 'type': 'insufficient_quota', 'param': None, 'code': 'insufficient_quota'}}. (request_id: req_58edc2f707c94e46990f609b9316f75e)\n"
     ]
    }
   ],
   "source": [
    "# Improved instructions thanks to student Guillermo F.\n",
    "\n",
    "content_manager_instructions = \"\"\"\n",
    "You are a content generator at ComplAI. Your goal is to find the single best content using the agent tools.\n",
    " \n",
    "Follow these steps carefully:\n",
    "1. Generate Drafts: Use all  agent tools to generate three different email drafts. Do not proceed until all three drafts are ready.\n",
    " \n",
    "2. Evaluate and Select: Review the drafts and choose the single best content using your judgment of which one is most effective.\n",
    "You can use the tools multiple times if you're not satisfied with the results from the first try.\n",
    " \n",
    "3. Handoff for Sending: Pass ONLY the winning content draft to the 'Email Manager' agent. The Email Manager will take care of formatting and sending.\n",
    " \n",
    "Crucial Rules:\n",
    "- You must use the agent tools to generate the drafts — do not write them yourself.\n",
    "- You must hand off exactly ONE content to the Email Manager — never more than one.\n",
    "\"\"\"\n",
    "\n",
    "\n",
    "content_manager_hand_off = Agent(\n",
    "    name=\"Content Manager With Hand Off\",\n",
    "    instructions=content_manager_instructions,\n",
    "    tools=tools,\n",
    "    handoffs=handoffs,\n",
    "    model=model)\n",
    "\n",
    "message = \"Send out a content about frontend and llm and related each other\"\n",
    "\n",
    "with trace(\"Automated With Hand Off\"):\n",
    "    result = await Runner.run(content_manager_hand_off, message)"
   ]
  },
  {
   "cell_type": "markdown",
   "metadata": {},
   "source": [
    "### Remember to check the trace\n",
    "\n",
    "https://platform.openai.com/traces\n",
    "\n",
    "And then check your email!!"
   ]
  },
  {
   "cell_type": "markdown",
   "metadata": {},
   "source": [
    "<table style=\"margin: 0; text-align: left; width:100%\">\n",
    "    <tr>\n",
    "        <td style=\"width: 150px; height: 150px; vertical-align: middle;\">\n",
    "            <img src=\"../assets/exercise.png\" width=\"150\" height=\"150\" style=\"display: block;\" />\n",
    "        </td>\n",
    "        <td>\n",
    "            <h2 style=\"color:#ff7800;\">Exercise</h2>\n",
    "            <span style=\"color:#ff7800;\">Can you identify the Agentic design patterns that were used here?<br/>\n",
    "            What is the 1 line that changed this from being an Agentic \"workflow\" to \"agent\" under Anthropic's definition?<br/>\n",
    "            Try adding in more tools and Agents! You could have tools that handle the mail merge to send to a list.<br/><br/>\n",
    "            HARD CHALLENGE: research how you can have SendGrid call a Callback webhook when a user replies to an email,\n",
    "            Then have the SDR respond to keep the conversation going! This may require some \"vibe coding\" 😂\n",
    "            </span>\n",
    "        </td>\n",
    "    </tr>\n",
    "</table>"
   ]
  },
  {
   "cell_type": "markdown",
   "metadata": {},
   "source": [
    "<table style=\"margin: 0; text-align: left; width:100%\">\n",
    "    <tr>\n",
    "        <td style=\"width: 150px; height: 150px; vertical-align: middle;\">\n",
    "            <img src=\"../assets/business.png\" width=\"150\" height=\"150\" style=\"display: block;\" />\n",
    "        </td>\n",
    "        <td>\n",
    "            <h2 style=\"color:#00bfff;\">Commercial implications</h2>\n",
    "            <span style=\"color:#00bfff;\">This is immediately applicable to Sales Automation; but more generally this could be applied to  end-to-end automation of any business process through conversations and tools. Think of ways you could apply an Agent solution\n",
    "            like this in your day job.\n",
    "            </span>\n",
    "        </td>\n",
    "    </tr>\n",
    "</table>"
   ]
  },
  {
   "cell_type": "markdown",
   "metadata": {},
   "source": [
    "## Extra note:\n",
    "\n",
    "Google has released their Agent Development Kit (ADK). It's not yet got the traction of the other frameworks on this course, but it's getting some attention. It's interesting to note that it looks quite similar to OpenAI Agents SDK. To give you a preview, here's a peak at sample code from ADK:\n",
    "\n",
    "```\n",
    "root_agent = Agent(\n",
    "    name=\"weather_time_agent\",\n",
    "    model=\"gemini-2.0-flash\",\n",
    "    description=\"Agent to answer questions about the time and weather in a city.\",\n",
    "    instruction=\"You are a helpful agent who can answer user questions about the time and weather in a city.\",\n",
    "    tools=[get_weather, get_current_time]\n",
    ")\n",
    "```\n",
    "\n",
    "Well, that looks familiar!\n",
    "\n",
    "And a student has contributed a customer care agent in community_contributions that uses ADK."
   ]
  },
  {
   "cell_type": "markdown",
   "metadata": {},
   "source": []
  }
 ],
 "metadata": {
  "kernelspec": {
   "display_name": ".venv",
   "language": "python",
   "name": "python3"
  },
  "language_info": {
   "codemirror_mode": {
    "name": "ipython",
    "version": 3
   },
   "file_extension": ".py",
   "mimetype": "text/x-python",
   "name": "python",
   "nbconvert_exporter": "python",
   "pygments_lexer": "ipython3",
   "version": "3.12.10"
  }
 },
 "nbformat": 4,
 "nbformat_minor": 2
}
